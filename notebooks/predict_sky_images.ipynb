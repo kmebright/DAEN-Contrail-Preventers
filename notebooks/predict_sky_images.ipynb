{
 "cells": [
  {
   "cell_type": "code",
   "execution_count": 1,
   "metadata": {},
   "outputs": [],
   "source": [
    "from roboflow import Roboflow"
   ]
  },
  {
   "cell_type": "code",
   "execution_count": 2,
   "metadata": {},
   "outputs": [
    {
     "name": "stdout",
     "output_type": "stream",
     "text": [
      "loading Roboflow workspace...\n",
      "loading Roboflow project...\n"
     ]
    }
   ],
   "source": [
    "rf = Roboflow(api_key=\"zRb8LZg63cFvJMrp0GyO\")\n",
    "project = rf.workspace().project(\"contrails-50-50-object-det.\")\n",
    "model = project.version(2).model"
   ]
  },
  {
   "cell_type": "code",
   "execution_count": 3,
   "metadata": {},
   "outputs": [],
   "source": [
    "def count_object_occurrences(predictions, target_class):\n",
    "    object_count = 0\n",
    "    for prediction in predictions:\n",
    "        if prediction['class'] in target_class:\n",
    "            object_count += 1\n",
    "    return object_count"
   ]
  },
  {
   "cell_type": "code",
   "execution_count": 8,
   "metadata": {},
   "outputs": [
    {
     "name": "stdout",
     "output_type": "stream",
     "text": [
      "['20230222_094422.jpg', '20230222_121823.jpg', '20230222_122010.jpg', '20230222_124035.jpg', '20230222_124132.jpg']\n"
     ]
    }
   ],
   "source": [
    "import os\n",
    "fp = r'C:\\Users\\kmebr\\Documents\\data_analytics_project_fall_2023\\DAEN-Contrail-Preventers\\data\\images/'\n",
    "files = os.listdir(fp)\n",
    "print(files[:5])"
   ]
  },
  {
   "cell_type": "code",
   "execution_count": 16,
   "metadata": {},
   "outputs": [],
   "source": [
    "data = []\n",
    "for file in files:\n",
    "    temp = [file]\n",
    "    for conf in [30, 50, 70, 80, 90]:\n",
    "        pred = model.predict((fp+file), confidence=conf, overlap=30)\n",
    "        temp.append(pred)\n",
    "        if count_object_occurrences(pred, 'Cirrus') + count_object_occurrences(pred, 'LongLived') != 0:\n",
    "            temp.append(1)\n",
    "        else:\n",
    "            temp.append(0)\n",
    "    data.append(temp)"
   ]
  },
  {
   "cell_type": "code",
   "execution_count": 17,
   "metadata": {},
   "outputs": [],
   "source": [
    "cols = ['file_name']\n",
    "for val in [30, 50, 70, 80, 90]:\n",
    "    cols.append(str(val)+'_output')\n",
    "    cols.append(str(val)+'_pred')"
   ]
  },
  {
   "cell_type": "code",
   "execution_count": 18,
   "metadata": {},
   "outputs": [
    {
     "data": {
      "text/plain": [
       "['file_name',\n",
       " '30_output',\n",
       " '30_pred',\n",
       " '50_output',\n",
       " '50_pred',\n",
       " '70_output',\n",
       " '70_pred',\n",
       " '80_output',\n",
       " '80_pred',\n",
       " '90_output',\n",
       " '90_pred']"
      ]
     },
     "execution_count": 18,
     "metadata": {},
     "output_type": "execute_result"
    }
   ],
   "source": [
    "cols"
   ]
  },
  {
   "cell_type": "code",
   "execution_count": 20,
   "metadata": {},
   "outputs": [],
   "source": [
    "import pandas as pd"
   ]
  },
  {
   "cell_type": "code",
   "execution_count": 21,
   "metadata": {},
   "outputs": [],
   "source": [
    "output = pd.DataFrame(data, columns = cols)"
   ]
  },
  {
   "cell_type": "code",
   "execution_count": 25,
   "metadata": {},
   "outputs": [],
   "source": [
    "output.to_pickle(r'C:\\Users\\kmebr\\Documents\\data_analytics_project_fall_2023\\DAEN-Contrail-Preventers\\data/pred_output.pkl')"
   ]
  },
  {
   "cell_type": "code",
   "execution_count": 26,
   "metadata": {},
   "outputs": [
    {
     "data": {
      "text/html": [
       "<div>\n",
       "<style scoped>\n",
       "    .dataframe tbody tr th:only-of-type {\n",
       "        vertical-align: middle;\n",
       "    }\n",
       "\n",
       "    .dataframe tbody tr th {\n",
       "        vertical-align: top;\n",
       "    }\n",
       "\n",
       "    .dataframe thead th {\n",
       "        text-align: right;\n",
       "    }\n",
       "</style>\n",
       "<table border=\"1\" class=\"dataframe\">\n",
       "  <thead>\n",
       "    <tr style=\"text-align: right;\">\n",
       "      <th></th>\n",
       "      <th>file_name</th>\n",
       "      <th>30_output</th>\n",
       "      <th>30_pred</th>\n",
       "      <th>50_output</th>\n",
       "      <th>50_pred</th>\n",
       "      <th>70_output</th>\n",
       "      <th>70_pred</th>\n",
       "      <th>80_output</th>\n",
       "      <th>80_pred</th>\n",
       "      <th>90_output</th>\n",
       "      <th>90_pred</th>\n",
       "    </tr>\n",
       "  </thead>\n",
       "  <tbody>\n",
       "    <tr>\n",
       "      <th>0</th>\n",
       "      <td>20230222_094422.jpg</td>\n",
       "      <td>()</td>\n",
       "      <td>0</td>\n",
       "      <td>()</td>\n",
       "      <td>0</td>\n",
       "      <td>()</td>\n",
       "      <td>0</td>\n",
       "      <td>()</td>\n",
       "      <td>0</td>\n",
       "      <td>()</td>\n",
       "      <td>0</td>\n",
       "    </tr>\n",
       "    <tr>\n",
       "      <th>1</th>\n",
       "      <td>20230222_121823.jpg</td>\n",
       "      <td>({\\n  \"x\": 135,\\n  \"y\": 212,\\n  \"width\": 258,\\...</td>\n",
       "      <td>1</td>\n",
       "      <td>()</td>\n",
       "      <td>0</td>\n",
       "      <td>()</td>\n",
       "      <td>0</td>\n",
       "      <td>()</td>\n",
       "      <td>0</td>\n",
       "      <td>()</td>\n",
       "      <td>0</td>\n",
       "    </tr>\n",
       "    <tr>\n",
       "      <th>2</th>\n",
       "      <td>20230222_122010.jpg</td>\n",
       "      <td>()</td>\n",
       "      <td>0</td>\n",
       "      <td>()</td>\n",
       "      <td>0</td>\n",
       "      <td>()</td>\n",
       "      <td>0</td>\n",
       "      <td>()</td>\n",
       "      <td>0</td>\n",
       "      <td>()</td>\n",
       "      <td>0</td>\n",
       "    </tr>\n",
       "    <tr>\n",
       "      <th>3</th>\n",
       "      <td>20230222_124035.jpg</td>\n",
       "      <td>()</td>\n",
       "      <td>0</td>\n",
       "      <td>()</td>\n",
       "      <td>0</td>\n",
       "      <td>()</td>\n",
       "      <td>0</td>\n",
       "      <td>()</td>\n",
       "      <td>0</td>\n",
       "      <td>()</td>\n",
       "      <td>0</td>\n",
       "    </tr>\n",
       "    <tr>\n",
       "      <th>4</th>\n",
       "      <td>20230222_124132.jpg</td>\n",
       "      <td>()</td>\n",
       "      <td>0</td>\n",
       "      <td>()</td>\n",
       "      <td>0</td>\n",
       "      <td>()</td>\n",
       "      <td>0</td>\n",
       "      <td>()</td>\n",
       "      <td>0</td>\n",
       "      <td>()</td>\n",
       "      <td>0</td>\n",
       "    </tr>\n",
       "  </tbody>\n",
       "</table>\n",
       "</div>"
      ],
      "text/plain": [
       "             file_name                                          30_output  \\\n",
       "0  20230222_094422.jpg                                                 ()   \n",
       "1  20230222_121823.jpg  ({\\n  \"x\": 135,\\n  \"y\": 212,\\n  \"width\": 258,\\...   \n",
       "2  20230222_122010.jpg                                                 ()   \n",
       "3  20230222_124035.jpg                                                 ()   \n",
       "4  20230222_124132.jpg                                                 ()   \n",
       "\n",
       "   30_pred 50_output  50_pred 70_output  70_pred 80_output  80_pred 90_output  \\\n",
       "0        0        ()        0        ()        0        ()        0        ()   \n",
       "1        1        ()        0        ()        0        ()        0        ()   \n",
       "2        0        ()        0        ()        0        ()        0        ()   \n",
       "3        0        ()        0        ()        0        ()        0        ()   \n",
       "4        0        ()        0        ()        0        ()        0        ()   \n",
       "\n",
       "   90_pred  \n",
       "0        0  \n",
       "1        0  \n",
       "2        0  \n",
       "3        0  \n",
       "4        0  "
      ]
     },
     "execution_count": 26,
     "metadata": {},
     "output_type": "execute_result"
    }
   ],
   "source": [
    "output.head()"
   ]
  },
  {
   "cell_type": "code",
   "execution_count": null,
   "metadata": {},
   "outputs": [],
   "source": []
  }
 ],
 "metadata": {
  "kernelspec": {
   "display_name": "cnn_project",
   "language": "python",
   "name": "python3"
  },
  "language_info": {
   "codemirror_mode": {
    "name": "ipython",
    "version": 3
   },
   "file_extension": ".py",
   "mimetype": "text/x-python",
   "name": "python",
   "nbconvert_exporter": "python",
   "pygments_lexer": "ipython3",
   "version": "3.10.10"
  },
  "orig_nbformat": 4
 },
 "nbformat": 4,
 "nbformat_minor": 2
}
