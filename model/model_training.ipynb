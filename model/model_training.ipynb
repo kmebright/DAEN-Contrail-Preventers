{
 "cells": [
  {
   "cell_type": "code",
   "execution_count": null,
   "metadata": {},
   "outputs": [],
   "source": [
    "from imblearn.over_sampling import SMOTE\n",
    "from sklearn.model_selection import train_test_split\n",
    "import pandas as pd\n",
    "import numpy as np\n",
    "from sklearn.preprocessing import StandardScaler\n",
    "from sklearn.neural_network import MLPClassifier\n",
    "from sklearn.metrics import accuracy_score\n",
    "from sklearn.metrics import confusion_matrix\n",
    "from sklearn.metrics import classification_report\n",
    "from sklearn.model_selection import GridSearchCV\n",
    "from sklearn.ensemble import RandomForestClassifier\n",
    "from sklearn.svm import SVC\n",
    "from sklearn.metrics import f1_score\n",
    "from xgboost import XGBClassifier"
   ]
  },
  {
   "cell_type": "code",
   "execution_count": null,
   "metadata": {},
   "outputs": [],
   "source": [
    "df = pd.read_csv(r'C:\\Users\\kmebr\\Documents\\data_analytics_project_fall_2023\\DAEN-Contrail-Preventers\\data\\output.csv')\n",
    "df = df[['TEMP(F)', 'RH_ICE', 'PRESS', '30_pred']]\n",
    "X_train, X_test, y_train, y_test = train_test_split(df[['TEMP(F)', 'RH_ICE', 'PRESS']], df['30_pred'], test_size=0.2, random_state=1693)\n",
    "oversample = SMOTE()\n",
    "X_train, y_train = oversample.fit_resample(X_train, y_train)"
   ]
  },
  {
   "cell_type": "code",
   "execution_count": null,
   "metadata": {},
   "outputs": [],
   "source": [
    "param_rf = {'max_depth':[3,5,10, 15, 20],\n",
    "            'n_estimators':[10,50, 100,150,200,250,300],\n",
    "            'min_samples_leaf':[1,2,3],\n",
    "            'min_samples_split':[1,2,3]}\n",
    "\n",
    "param_svm = {'C': [0.1,1, 10], 'gamma': [1,0.1,0.01,0.001],'kernel': ['rbf', 'poly', 'sigmoid']}\n",
    "\n",
    "param_xgboost = {\n",
    "    'max_depth': range (2, 10, 1),\n",
    "    'n_estimators': range(60, 220, 40),\n",
    "    'learning_rate': [0.1, 0.01, 0.05],\n",
    "    'min_child_weight': [1, 5, 10],\n",
    "        'gamma': [0.5, 1, 1.5, 2, 5],\n",
    "        'subsample': [0.6, 0.8, 1.0],\n",
    "        'colsample_bytree': [0.6, 0.8, 1.0]\n",
    "}\n",
    "\n",
    "param_mlp = {\n",
    "    'hidden_layer_sizes': [(150,100,50, 25, 10), (120,80,40, 20, 10), (100,50,30, 15), (150,100,50), (120,80,40), (100,50,30), (150,100,50, 25), (120,80,40, 20)],\n",
    "    'max_iter': [50, 100, 150, 300, 400],\n",
    "    'activation': ['tanh', 'relu', 'sigmoid'],\n",
    "    'solver': ['sgd', 'adam'],\n",
    "    'alpha': [0.0001, 0.05],\n",
    "    'learning_rate': ['constant','adaptive'],\n",
    "}"
   ]
  },
  {
   "cell_type": "code",
   "execution_count": null,
   "metadata": {},
   "outputs": [],
   "source": [
    "grid_rf = GridSearchCV(RandomForestClassifier(),param_grid=param_rf,scoring='f1', verbose=3)\n",
    "model_rf = grid_rf.fit(X_train,y_train)\n",
    "print(model_rf.best_params_)\n",
    "print(model_rf.best_score_)"
   ]
  },
  {
   "cell_type": "code",
   "execution_count": null,
   "metadata": {},
   "outputs": [],
   "source": [
    "model_rf = RandomForestClassifier(max_depth=20, min_samples_leaf=1, min_samples_split=2, n_estimators=200).fit(X_train, y_train)"
   ]
  },
  {
   "cell_type": "code",
   "execution_count": null,
   "metadata": {},
   "outputs": [],
   "source": [
    "grid_svm = GridSearchCV(SVC(),param_grid=param_svm,scoring='f1', verbose=3,)\n",
    "model_svm = grid_svm.fit(X_train,y_train)\n",
    "print(model_svm.best_params_)\n",
    "print(model_svm.best_score_)"
   ]
  },
  {
   "cell_type": "code",
   "execution_count": null,
   "metadata": {},
   "outputs": [],
   "source": [
    "grid_xgboost = GridSearchCV(XGBClassifier(objective= 'binary:logistic',nthread=4), param_grid=param_xgboost, scoring = 'f1', n_jobs = 10, verbose=3)\n",
    "model_xgboost = grid_xgboost.fit(X_train, y_train)\n",
    "print(model_xgboost.best_params_)\n",
    "print(model_xgboost.best_score_)"
   ]
  },
  {
   "cell_type": "code",
   "execution_count": null,
   "metadata": {},
   "outputs": [],
   "source": [
    "model_xgboost = XGBClassifier(objective= 'binary:logistic',nthread=4, colsample_bytree = 1, gamma=.5, learning_rate=.1, max_depth=7, min_child_weight=1, n_estimators=140, subsample=.8).fit(X_train, y_train)"
   ]
  },
  {
   "cell_type": "code",
   "execution_count": null,
   "metadata": {},
   "outputs": [],
   "source": [
    "sc=StandardScaler()\n",
    "scaler = sc.fit(X_train)\n",
    "X_train_scaled = scaler.transform(X_train)\n",
    "X_test_scaled = scaler.transform(X_test)\n",
    "grid_mlp = GridSearchCV(MLPClassifier(), param_grid=param_mlp, n_jobs= -1, scoring='f1', verbose=3)\n",
    "model_mlp = grid_mlp.fit(X_train_scaled, y_train)\n",
    "print(model_mlp.best_params_)\n",
    "print(model_mlp.best_score_)"
   ]
  },
  {
   "cell_type": "code",
   "execution_count": null,
   "metadata": {},
   "outputs": [],
   "source": [
    "sc=StandardScaler()\n",
    "scaler = sc.fit(X_train)\n",
    "X_train_scaled = scaler.transform(X_train)\n",
    "X_test_scaled = scaler.transform(X_test)\n",
    "model_mlp = MLPClassifier(activation='relu', alpha=.0001, hidden_layer_sizes=(100,50,30,15), learning_rate='adaptive', max_iter=400, solver='adam').fit(X_train_scaled, y_train)"
   ]
  },
  {
   "cell_type": "code",
   "execution_count": null,
   "metadata": {},
   "outputs": [],
   "source": [
    "import seaborn as sns\n",
    "import matplotlib.pyplot as plt   \n",
    "from sklearn.metrics import confusion_matrix\n",
    "\n",
    "# Create the confusion matrix\n",
    "cm = [[313,102],[40,34]]#confusion_matrix(y_test, model_mlp.predict(X_test_scaled))  \n",
    "\n",
    "ax= plt.subplot()\n",
    "sns.heatmap(cm, annot=True, fmt='g', ax=ax, cmap=\"Blues\");  #annot=True to annotate cells, ftm='g' to disable scientific notation\n",
    "sns.set(font_scale=2.0) \n",
    "\n",
    "# labels, title and ticks\n",
    "ax.set_xlabel('Predicted Labels');ax.set_ylabel('True Labels'); \n",
    "title_font = {'size':'21'}\n",
    "ax.set_title('Multilayer Perception',fontdict=title_font); \n",
    "ax.xaxis.set_ticklabels(['No Contrail', 'Contrail']); \n",
    "ax.yaxis.set_ticklabels(['No Contrail', 'Contrail'])\n",
    "label_font = {'size':'18'}  # Adjust to fit\n",
    "ax.set_xlabel('Predicted Labels', fontdict=label_font);\n",
    "ax.set_ylabel('Observed Labels', fontdict=label_font);\n",
    "ax.tick_params(axis='both', which='major', labelsize=18) "
   ]
  },
  {
   "cell_type": "code",
   "execution_count": null,
   "metadata": {},
   "outputs": [],
   "source": [
    "accuracy = (cm[0, 0] + cm[1, 1]) / np.sum(cm)\n",
    "\n",
    "print(accuracy)"
   ]
  },
  {
   "cell_type": "code",
   "execution_count": null,
   "metadata": {},
   "outputs": [],
   "source": [
    "f1_score(y_test, model_mlp.predict(X_test_scaled))"
   ]
  },
  {
   "cell_type": "code",
   "execution_count": null,
   "metadata": {},
   "outputs": [],
   "source": [
    "import scikitplot as skplt"
   ]
  },
  {
   "cell_type": "code",
   "execution_count": null,
   "metadata": {},
   "outputs": [],
   "source": [
    "skplt.metrics.plot_roc(y_test, model_rf.predict_proba(X_test), title = 'ROC Curve')"
   ]
  },
  {
   "cell_type": "code",
   "execution_count": null,
   "metadata": {},
   "outputs": [],
   "source": [
    "skplt.metrics.plot_precision_recall(y_test, model_rf.predict_proba(X_test), title = 'Precision-Recall Curve')"
   ]
  },
  {
   "cell_type": "code",
   "execution_count": null,
   "metadata": {},
   "outputs": [],
   "source": [
    "skplt.metrics.plot_cumulative_gain(y_test, model_rf.predict_proba(X_test), title = 'Cumulative Gains Chart')"
   ]
  },
  {
   "cell_type": "code",
   "execution_count": null,
   "metadata": {},
   "outputs": [],
   "source": [
    "skplt.metrics.plot_lift_curve(y_test, model_rf.predict_proba(X_test), title = 'Lift Curve')"
   ]
  },
  {
   "cell_type": "code",
   "execution_count": null,
   "metadata": {},
   "outputs": [],
   "source": []
  }
 ],
 "metadata": {
  "kernelspec": {
   "display_name": "cnn_project",
   "language": "python",
   "name": "python3"
  },
  "language_info": {
   "codemirror_mode": {
    "name": "ipython",
    "version": 3
   },
   "file_extension": ".py",
   "mimetype": "text/x-python",
   "name": "python",
   "nbconvert_exporter": "python",
   "pygments_lexer": "ipython3",
   "version": "3.10.10"
  },
  "orig_nbformat": 4
 },
 "nbformat": 4,
 "nbformat_minor": 2
}
